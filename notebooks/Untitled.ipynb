{
 "cells": [
  {
   "cell_type": "markdown",
   "id": "61d0cbdf",
   "metadata": {},
   "source": [
    "# DB connection"
   ]
  },
  {
   "cell_type": "markdown",
   "id": "0617c5a3",
   "metadata": {},
   "source": [
    "## Env"
   ]
  },
  {
   "cell_type": "code",
   "execution_count": 1,
   "id": "8d8435fb",
   "metadata": {},
   "outputs": [],
   "source": [
    "from dotenv import load_dotenv, find_dotenv\n",
    "\n",
    "import os\n",
    "\n",
    "# look for .env path\n",
    "load_dotenv(find_dotenv())\n",
    "\n",
    "# retrieve params\n",
    "params = dict(\n",
    "    host=os.environ.get(\"DB_HOST\"),\n",
    "    port=os.environ.get(\"DB_PORT\"),\n",
    "    dbname=os.environ.get(\"DB_NAME\"),\n",
    "    user=os.environ.get(\"DB_USERNAME\"),\n",
    "    password=os.environ.get(\"DB_PASSWORD\"))"
   ]
  },
  {
   "cell_type": "markdown",
   "id": "a15cc656",
   "metadata": {},
   "source": [
    "## Connection"
   ]
  },
  {
   "cell_type": "code",
   "execution_count": 2,
   "id": "76bd6517",
   "metadata": {},
   "outputs": [],
   "source": [
    "import psycopg2\n",
    "\n",
    "# connect to db\n",
    "conn = psycopg2.connect(**params)\n",
    "cur = conn.cursor()"
   ]
  },
  {
   "cell_type": "markdown",
   "id": "e3bd0ea7",
   "metadata": {},
   "source": [
    "# Requests"
   ]
  },
  {
   "cell_type": "markdown",
   "id": "dcbcd84a",
   "metadata": {},
   "source": [
    "## List DB tables"
   ]
  },
  {
   "cell_type": "code",
   "execution_count": 3,
   "id": "c2e28839",
   "metadata": {},
   "outputs": [],
   "source": [
    "# build query\n",
    "list_db_tables = \"\"\"\n",
    "SELECT *\n",
    "FROM pg_catalog.pg_tables\n",
    "\"\"\"\n",
    "\n",
    "# run query\n",
    "res = cur.execute(list_db_tables)\n",
    "db_tables = cur.fetchall()"
   ]
  },
  {
   "cell_type": "code",
   "execution_count": null,
   "id": "8756a0d1",
   "metadata": {},
   "outputs": [],
   "source": [
    "db_tables"
   ]
  }
 ],
 "metadata": {
  "kernelspec": {
   "display_name": "Python 3",
   "language": "python",
   "name": "python3"
  },
  "language_info": {
   "codemirror_mode": {
    "name": "ipython",
    "version": 3
   },
   "file_extension": ".py",
   "mimetype": "text/x-python",
   "name": "python",
   "nbconvert_exporter": "python",
   "pygments_lexer": "ipython3",
   "version": "3.9.2"
  },
  "toc": {
   "base_numbering": 1,
   "nav_menu": {},
   "number_sections": true,
   "sideBar": true,
   "skip_h1_title": false,
   "title_cell": "Table of Contents",
   "title_sidebar": "Contents",
   "toc_cell": false,
   "toc_position": {},
   "toc_section_display": true,
   "toc_window_display": false
  },
  "varInspector": {
   "cols": {
    "lenName": 16,
    "lenType": 16,
    "lenVar": 40
   },
   "kernels_config": {
    "python": {
     "delete_cmd_postfix": "",
     "delete_cmd_prefix": "del ",
     "library": "var_list.py",
     "varRefreshCmd": "print(var_dic_list())"
    },
    "r": {
     "delete_cmd_postfix": ") ",
     "delete_cmd_prefix": "rm(",
     "library": "var_list.r",
     "varRefreshCmd": "cat(var_dic_list()) "
    }
   },
   "types_to_exclude": [
    "module",
    "function",
    "builtin_function_or_method",
    "instance",
    "_Feature"
   ],
   "window_display": false
  }
 },
 "nbformat": 4,
 "nbformat_minor": 5
}
